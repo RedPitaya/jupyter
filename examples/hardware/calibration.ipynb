{
 "cells": [
  {
   "cell_type": "markdown",
   "metadata": {},
   "source": [
    "# Calibration"
   ]
  },
  {
   "cell_type": "markdown",
   "metadata": {},
   "source": [
    "## Libraries and FPGA image\n",
    "\n",
    "We will start by importing the *rp* (Red Pitaya) and *rp_overlay* libraries and loading the *v0.94* FPGA image."
   ]
  },
  {
   "cell_type": "code",
   "execution_count": null,
   "metadata": {},
   "outputs": [],
   "source": [
    "from rp_overlay import overlay\n",
    "import rp\n",
    "import rp_hw_calib\n",
    "\n",
    "fpga = overlay()"
   ]
  },
  {
   "cell_type": "markdown",
   "metadata": {},
   "source": [
    "Initialize the Red Pitaya calibration interface."
   ]
  },
  {
   "cell_type": "code",
   "execution_count": null,
   "metadata": {},
   "outputs": [],
   "source": [
    "rp_hw_calib.rp_CalibInit()"
   ]
  },
  {
   "cell_type": "markdown",
   "metadata": {},
   "source": [
    "## Macros\n",
    "\n",
    "- **Errors:**\n",
    "  - RP_HW_CALIB_OK    - Success  \n",
    "  - RP_HW_CALIB_ERE   - Error read from eeprom  \n",
    "  - RP_HW_CALIB_EWE   - Error write to eeprom  \n",
    "  - RP_HW_CALIB_ENI   - Error Calibration values are not initialized  \n",
    "  - RP_HW_CALIB_EDM   - Board Model Detection Error  \n",
    "  - RP_HW_CALIB_ECH   - Invalid channel parameter  \n",
    "  - RP_HW_CALIB_EIP   - Invalid parameter  \n",
    "  - RP_HW_CALIB_EA    - Adjust error\n",
    "- **Board ID:**\n",
    "  - RP_HW_PACK_ID_V1 - STEMLAB 125-14  \n",
    "  - RP_HW_PACK_ID_V2 - SIGNALlab 250-12  \n",
    "  - RP_HW_PACK_ID_V3 - STEMlab 125-14 4-Input  \n",
    "  - RP_HW_PACK_ID_V4 - SDRlab 122-16\n",
    "  - RP_HW_PACK_ID_V5 - Universal calibration\n",
    "- **Fast analog inputs** - RP_CH_1_CALIB, RP_CH_2_CALIB, RP_CH_3_CALIB, RP_CH_4_CALIB\n",
    "\n",
    "SIGNALlab 250-12 only:\n",
    "- **Calibration generator gain** - RP_GAIN_CALIB_1X, RP_GAIN_CALIB_5X\n",
    "- **Coupling mode** - RP_DC_CALIB, RP_AC_CALIB\n",
    "\n",
    "## Structures\n",
    "\n",
    "For more information regarding the specific functions and structures, please check the following two GitHub files:\n",
    "\n",
    "- [rp_hw-calib.h](https://github.com/RedPitaya/RedPitaya/blob/master/rp-api/api-hw-calib/include/rp_hw-calib.h)\n",
    "- [calib_universal.h](https://github.com/RedPitaya/RedPitaya/blob/master/rp-api/api-hw-calib/src/calib_universal.h)"
   ]
  },
  {
   "cell_type": "code",
   "execution_count": null,
   "metadata": {},
   "outputs": [],
   "source": [
    "typedef struct{\n",
    "    uint32_t gain;\n",
    "    uint32_t base;\n",
    "    uint8_t  precision;\n",
    "    int32_t  offset;\n",
    "} uint_gain_calib_t;\n",
    "\n",
    "typedef struct{\n",
    "    float       baseScale;\n",
    "    uint32_t    calibValue;\n",
    "    int32_t     offset;\n",
    "    double      gainCalc;\n",
    "} channel_calib_t;\n",
    "\n",
    "typedef struct\n",
    "{\n",
    "    uint32_t aa;\n",
    "    uint32_t bb;\n",
    "    uint32_t pp;\n",
    "    uint32_t kk;\n",
    "} channel_filter_t;\n",
    "\n",
    "\n",
    "typedef struct {\n",
    "    char dataStructureId;\n",
    "    char wpCheck;\n",
    "\n",
    "    uint8_t fast_adc_count_1_1; // For 250-12 is DC mode\n",
    "    channel_calib_t fast_adc_1_1[4];\n",
    "    channel_filter_t fast_adc_filter_1_1[4];\n",
    "    uint8_t fast_adc_count_1_20;\n",
    "    channel_calib_t fast_adc_1_20[4]; // For 250-12 is DC mode\n",
    "    channel_filter_t fast_adc_filter_1_20[4];\n",
    "\n",
    "    uint8_t fast_adc_count_1_1_ac; // For 250-12\n",
    "    channel_calib_t fast_adc_1_1_ac[4];\n",
    "    uint8_t fast_adc_count_1_20_ac; // For 250-12\n",
    "    channel_calib_t fast_adc_1_20_ac[4];\n",
    "\n",
    "    uint8_t fast_dac_count_x1;\n",
    "    channel_calib_t fast_dac_x1[2];\n",
    "\n",
    "    uint8_t fast_dac_count_x5; // For 250-12\n",
    "    channel_calib_t fast_dac_x5[2];\n",
    "} rp_calib_params_t;"
   ]
  },
  {
   "cell_type": "markdown",
   "metadata": {},
   "source": [
    "## Read calibration values\n",
    "Read calibration ID numbers in the order they appear in EEPROM."
   ]
  },
  {
   "cell_type": "code",
   "execution_count": null,
   "metadata": {},
   "outputs": [],
   "source": [
    "for i in range(1, 65, 1):\n",
    "    print(f\"{i}  {rp_hw_calib.rp_GetNameOfUniversalId(i)[1]}\")"
   ]
  },
  {
   "cell_type": "markdown",
   "metadata": {},
   "source": [
    "Here is how we can read Calibration data directly from EEPROM. Please note that one ID number can stretch across multiple EEPROM bytes."
   ]
  },
  {
   "cell_type": "code",
   "execution_count": null,
   "metadata": {},
   "outputs": [],
   "source": [
    "raw_data = rp_hw_calib.rp_CalibGetEEPROM(False)\n",
    "print(raw_data)\n",
    "\n",
    "data_arr = rp_hw_calib.uint8Arr_frompointer(raw_data[1])\n",
    "\n",
    "for n in range(raw_data[2]):\n",
    "    print(hex(data_arr[n]), end=\",\")\n",
    "print(\"\")"
   ]
  },
  {
   "cell_type": "markdown",
   "metadata": {},
   "source": [
    "**LV calibration values:**  \n",
    "This function automatically recalculates gain to a floating point (from EEPROM integer values gain, base, and precision)."
   ]
  },
  {
   "cell_type": "code",
   "execution_count": null,
   "metadata": {},
   "outputs": [],
   "source": [
    "ch1_lv_calib = rp_hw_calib.rp_CalibGetFastADCCalibValue(0,0)    # Channel, AC/DC mode\n",
    "ch2_lv_calib = rp_hw_calib.rp_CalibGetFastADCCalibValue(1,0)\n",
    "\n",
    "print(f\"LV ADC[1]: Gain = {ch1_lv_calib[1]}, Offset = {ch1_lv_calib[2]}\\n\")\n",
    "print(f\"LV ADC[2]: Gain = {ch2_lv_calib[1]}, Offset = {ch2_lv_calib[2]}\\n\")"
   ]
  },
  {
   "cell_type": "markdown",
   "metadata": {},
   "source": [
    "**HV calibration values:**  \n",
    "This function automatically recalculates gain to a floating point (from EEPROM integer values gain, base, and precision)."
   ]
  },
  {
   "cell_type": "code",
   "execution_count": null,
   "metadata": {},
   "outputs": [],
   "source": [
    "ch1_hv_calib = rp_hw_calib.rp_CalibGetFastADCCalibValue_1_20(0,0)    # Channel, AC/DC mode\n",
    "ch2_hv_calib = rp_hw_calib.rp_CalibGetFastADCCalibValue_1_20(1,0)\n",
    "\n",
    "print(f\"HV ADC[1]: Gain = {ch1_hv_calib[1]}, Offset = {ch1_hv_calib[2]}\\n\")\n",
    "print(f\"HV ADC[2]: Gain = {ch2_hv_calib[1]}, Offset = {ch2_hv_calib[2]}\\n\")"
   ]
  },
  {
   "cell_type": "markdown",
   "metadata": {},
   "source": [
    "**DAC calibration values:**  \n",
    "This function automatically recalculates gain to a floating point (from EEPROM integer values gain, base, and precision)."
   ]
  },
  {
   "cell_type": "code",
   "execution_count": null,
   "metadata": {},
   "outputs": [],
   "source": [
    "out1_calib = rp_hw_calib.rp_CalibGetFastDACCalibValue(0,0)      # Channel, Generator gain mode\n",
    "out2_calib = rp_hw_calib.rp_CalibGetFastDACCalibValue(1,0)\n",
    "\n",
    "print(f\"DAC[1]: Gain = {out1_calib[1]}, Offset = {out1_calib[2]}\\n\")\n",
    "print(f\"DAC[2]: Gain = {out2_calib[1]}, Offset = {out2_calib[2]}\\n\")"
   ]
  },
  {
   "cell_type": "markdown",
   "metadata": {},
   "source": [
    "**RAW calibration values:**  \n",
    "The values are read directly from EEPROM, and no gain recalculation is performed.  \n",
    "The functions to read HV ADC and DAC parameters are almost identical."
   ]
  },
  {
   "cell_type": "code",
   "execution_count": null,
   "metadata": {},
   "outputs": [],
   "source": [
    "t = rp_hw_calib.new_p_uint_gain_calib_t()\n",
    "res = rp_hw_calib.rp_CalibGetFastADCCalibValueI(0,0,t)  # Channel, AC/DC mode, array \n",
    "\n",
    "print(f\"LV ADC[1]: Gain = {t.gain}, Base = {t.base}, Precision = {t.precision}, Offset = {t.offset}\\n\")"
   ]
  },
  {
   "cell_type": "markdown",
   "metadata": {},
   "source": [
    "**Reading FPGA filter values:**"
   ]
  },
  {
   "cell_type": "code",
   "execution_count": null,
   "metadata": {},
   "outputs": [],
   "source": [
    "t = rp_hw_calib.new_p_channel_filter_t()\n",
    "\n",
    "# Channel 1 LV FPGA filter\n",
    "rp_hw_calib.rp_CalibGetFastADCFilter(0, t)    # Channel, array\n",
    "print(f\"LV ADC[1] filter parameters: AA = {t.aa}, BB = {t.bb}, PP = {t.pp}, KK = {t.kk}\\n\")\n",
    "\n",
    "# Channel 1 HV FPGA filter\n",
    "rp_hw_calib.rp_CalibGetFastADCFilter_1_20(0, t)\n",
    "print(f\"HV ADC[1] filter parameters: AA = {t.aa}, BB = {t.bb}, PP = {t.pp}, KK = {t.kk}\\n\")"
   ]
  },
  {
   "cell_type": "markdown",
   "metadata": {},
   "source": [
    "## <font color='red'>DANGER ZONE</font>\n",
    "### Backup\n",
    "Here is how to back up the calibration settings in case you want to try out the danger zone."
   ]
  },
  {
   "cell_type": "code",
   "execution_count": null,
   "metadata": {},
   "outputs": [],
   "source": [
    "current_settings = rp_hw_calib.rp_GetCalibrationSettings()"
   ]
  },
  {
   "cell_type": "markdown",
   "metadata": {},
   "source": [
    "Restoring calibration parameters from backup:"
   ]
  },
  {
   "cell_type": "code",
   "execution_count": null,
   "metadata": {},
   "outputs": [],
   "source": [
    "rp_hw_calib.rp_CalibrationWriteParams(current_settings,False)"
   ]
  },
  {
   "cell_type": "markdown",
   "metadata": {},
   "source": [
    "### Reseting calibration\n",
    "With the following commands, we can reset the calibration values of the Red Pitaya. After the reset, please restart JupyterLab for the changes to take effect.  \n",
    "\n",
    "If trying things out, do NOT close Jupyter Notebook, as you will lose the Backup variable."
   ]
  },
  {
   "cell_type": "code",
   "execution_count": null,
   "metadata": {},
   "outputs": [],
   "source": [
    "# Reset to defaul values\n",
    "rp_hw_calib.rp_CalibrationReset(False,False)\n",
    "\n",
    "# Reset to factory calibration\n",
    "rp_hw_calib.rp_CalibrationFactoryReset(False)"
   ]
  },
  {
   "cell_type": "code",
   "execution_count": null,
   "metadata": {},
   "outputs": [],
   "source": [
    "# Checking the reset values\n",
    "ch1_lv_calib = rp_hw_calib.rp_CalibGetFastADCCalibValue(0,0)    # Channel, AC/DC mode\n",
    "ch2_lv_calib = rp_hw_calib.rp_CalibGetFastADCCalibValue(1,0)\n",
    "\n",
    "print(f\"LV ADC[1]: Gain = {ch1_lv_calib[1]}, Offset = {ch1_lv_calib[2]}\\n\")\n",
    "print(f\"LV ADC[2]: Gain = {ch2_lv_calib[1]}, Offset = {ch2_lv_calib[2]}\\n\")"
   ]
  },
  {
   "cell_type": "markdown",
   "metadata": {},
   "source": [
    "### Change calibration values\n",
    "In this example, we will read the calibration values and then write the same parameters back to EEPROM."
   ]
  },
  {
   "cell_type": "code",
   "execution_count": null,
   "metadata": {},
   "outputs": [],
   "source": [
    "# Get current calibration settings\n",
    "rp_calib = rp_hw_calib.rp_GetCalibrationSettings()\n",
    "\n",
    "calib_1 = rp_hw_calib.cCalibArr_getitem(rp_calib.fast_adc_1_1,0)  # Channels 0,1\n",
    "calib_2 = rp_hw_calib.cCalibArr_getitem(rp_calib.fast_adc_1_1,1)\n",
    "\n",
    "print(calib_1.gainCalc)\n",
    "print(calib_2.gainCalc)\n",
    "\n",
    "# Save values for later\n",
    "calib_1_temp_gC = calib_1.gainCalc\n",
    "calib_2_temp_gC = calib_2.gainCalc"
   ]
  },
  {
   "cell_type": "markdown",
   "metadata": {},
   "source": [
    "Changing two parameters:"
   ]
  },
  {
   "cell_type": "code",
   "execution_count": null,
   "metadata": {},
   "outputs": [],
   "source": [
    "# New values\n",
    "calib_1.gainCalc = 1.1\n",
    "calib_2.gainCalc = 1.1\n",
    "\n",
    "# Change the calibration values\n",
    "rp_hw_calib.cCalibArr_setitem(rp_calib.fast_adc_1_1, 0, calib_1)\n",
    "rp_hw_calib.cCalibArr_setitem(rp_calib.fast_adc_1_1, 1, calib_2)\n",
    "\n",
    "# Calibration data is written to EEPROM\n",
    "rp_hw_calib.rp_CalibrationWriteParams(rp_calib,False)"
   ]
  },
  {
   "cell_type": "markdown",
   "metadata": {},
   "source": [
    "Setting the parameters into temporary memory and printing the calibration."
   ]
  },
  {
   "cell_type": "code",
   "execution_count": null,
   "metadata": {},
   "outputs": [],
   "source": [
    "rp_hw_calib.rp_CalibrationSetParams(rp_calib)\n",
    "\n",
    "# Only works in terminal\n",
    "rp_hw_calib.rp_CalibPrint(rp_calib)\n",
    "print(rp_calib)"
   ]
  },
  {
   "cell_type": "markdown",
   "metadata": {},
   "source": [
    "Reading new values:"
   ]
  },
  {
   "cell_type": "code",
   "execution_count": null,
   "metadata": {},
   "outputs": [],
   "source": [
    "rp_calib = rp_hw_calib.rp_GetCalibrationSettings()\n",
    "\n",
    "calib_1 = rp_hw_calib.cCalibArr_getitem(rp_calib.fast_adc_1_1,0)  # Channels 0,1,2,3\n",
    "calib_2 = rp_hw_calib.cCalibArr_getitem(rp_calib.fast_adc_1_1,1)\n",
    "\n",
    "print(calib_1.gainCalc)\n",
    "print(calib_2.gainCalc)"
   ]
  },
  {
   "cell_type": "markdown",
   "metadata": {},
   "source": [
    "Restoring the original calibration parameter values."
   ]
  },
  {
   "cell_type": "code",
   "execution_count": null,
   "metadata": {},
   "outputs": [],
   "source": [
    "calib_1.gainCalc = calib_1_temp_gC\n",
    "calib_2.gainCalc = calib_2_temp_gC\n",
    "\n",
    "rp_hw_calib.cCalibArr_setitem(rp_calib.fast_adc_1_1, 0, calib_1)\n",
    "rp_hw_calib.cCalibArr_setitem(rp_calib.fast_adc_1_1, 1, calib_2)\n",
    "\n",
    "rp_hw_calib.rp_CalibrationWriteParams(rp_calib,False)\n",
    "\n",
    "rp_calib = rp_hw_calib.rp_GetCalibrationSettings()\n",
    "\n",
    "calib_1 = rp_hw_calib.cCalibArr_getitem(rp_calib.fast_adc_1_1,0)  # Channels 0,1,2,3\n",
    "calib_2 = rp_hw_calib.cCalibArr_getitem(rp_calib.fast_adc_1_1,1)\n",
    "\n",
    "print(calib_1.gainCalc)\n",
    "print(calib_2.gainCalc)"
   ]
  },
  {
   "cell_type": "markdown",
   "metadata": {},
   "source": [
    "Restoring settings from backup. For the changes to take effect, please restart JupyterLab."
   ]
  },
  {
   "cell_type": "code",
   "execution_count": null,
   "metadata": {},
   "outputs": [],
   "source": [
    "rp_hw_calib.rp_CalibrationWriteParams(current_settings,False)"
   ]
  }
 ],
 "metadata": {
  "kernelspec": {
   "display_name": "Python 3",
   "language": "python",
   "name": "python3"
  },
  "language_info": {
   "codemirror_mode": {
    "name": "ipython",
    "version": 3
   },
   "file_extension": ".py",
   "mimetype": "text/x-python",
   "name": "python",
   "nbconvert_exporter": "python",
   "pygments_lexer": "ipython3",
   "version": "3.5.2"
  }
 },
 "nbformat": 4,
 "nbformat_minor": 2
}
