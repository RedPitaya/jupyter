{
 "cells": [
  {
   "cell_type": "markdown",
   "metadata": {},
   "source": [
    "# Custom waveform signal generation\n",
    "\n",
    "In this example, we will learn how to create a custom signal using Red Pitaya as an arbitrary waveform generator."
   ]
  },
  {
   "cell_type": "markdown",
   "metadata": {},
   "source": [
    "## Libraries and FPGA image\n",
    "In addition to the usual libraries, we will also import *numpy* for easier array operations, as well as *matplotlib* for signal plotting."
   ]
  },
  {
   "cell_type": "code",
   "execution_count": null,
   "metadata": {},
   "outputs": [],
   "source": [
    "import numpy as np\n",
    "from matplotlib import pyplot as plt\n",
    "from rp_overlay import overlay\n",
    "import rp\n",
    "\n",
    "fpga = overlay()\n",
    "rp.rp_Init()"
   ]
  },
  {
   "cell_type": "markdown",
   "metadata": {},
   "source": [
    "## Macros\n",
    "Throughout this tutorial we will mention macros multiple times. Here is a complete list of macros that will come in handy when customising this notebook. The marcos are a part of the **rp** library.\n",
    "\n",
    "- **Waveforms** - RP_WAVEFORM_SINE, RP_WAVEFORM_SQUARE, RP_WAVEFORM_TRIANGLE, RP_WAVEFORM_RAMP_UP, RP_WAVEFORM_RAMP_DOWN, RP_WAVEFORM_DC, RP_WAVEFORM_PWM, RP_WAVEFORM_ARBITRARY, RP_WAVEFORM_DC_NEG, RP_WAVEFORM_SWEEP\n",
    "- **Generator modes** - RP_GEN_MODE_CONTINUOUS, RP_GEN_MODE_BURST\n",
    "- **Sweep direction** - RP_GEN_SWEEP_DIR_NORMAL, RP_GEN_SWEEP_DIR_UP_DOWN\n",
    "- **Sweep mode** - RP_GEN_SWEEP_MODE_LINEAR, RP_GEN_SWEEP_MODE_LOG\n",
    "- **Generator trigger source** - RP_GEN_TRIG_SRC_INTERNAL, RP_GEN_TRIG_SRC_EXT_PE, RP_GEN_TRIG_SRC_EXT_NE\n",
    "- **Fast analog channels** - RP_CH_1, RP_CH_2\n",
    "- **Fast analog triggers** - RP_T_CH_1, RP_T_CH_2, RP_T_CH_EXT\n",
    "- **Rise and fall times** - RISE_FALL_MIN_RATIO, RISE_FALL_MAX_RATIO\n",
    "\n",
    "SIGNALlab 250-12 only:\n",
    "- **Generator gain** - RP_GAIN_1X, RP_GAIN_5X\n",
    "\n",
    "STEMlab 125-14 4-Input only:\n",
    "- **Fast analog channels** - RP_CH_3, RP_CH_4\n",
    "- **Fast analog triggers** - RP_T_CH_3, RP_T_CH_4"
   ]
  },
  {
   "cell_type": "markdown",
   "metadata": {},
   "source": [
    "## Prepare an arbitrary signal\n",
    "Let us define our custom signal as a sum of two sine waves with different frequencies. We will create an array with one period of custom signal that Red Pitaya will store inside an FPGA buffer, which is used it to generate the custom signal.\n",
    "\n",
    "Before we jump into coding, here is some theory.\n",
    "\n",
    "Red Pitaya expects a 16384 sample-long array, which is then stored in an internal FPGA buffer. There are a few things worth mentioning here:\n",
    "- Red Pitaya expects and will act as the whole buffer containing only one** period of the signal. Consequently, settings like frequency apply to the full buffer of 16384 samples.\n",
    "- If multiple signal periods are defined within the buffer, the output signal will generate faster than the specified frequency setting. For example, defining two sine periods inside the buffer and setting the frequency to 10 kHz will result in a 20 kHz sine output.\n",
    "- Sending a shorter array/buffer also results in a higher output frequency. For example, defining one sine period with 8192 samples and setting the frequency to 10 kHz results in a 20 kHz sine output.\n",
    "- The expected signal range is +-1 V. Signals larger than +-1 V will result in automatic normalisation, but smaller signals will not be normalised."
   ]
  },
  {
   "cell_type": "code",
   "execution_count": null,
   "metadata": {
    "scrolled": true
   },
   "outputs": [],
   "source": [
    "channel = rp.RP_CH_1        # rp.RP_CH_2\n",
    "channel2 = rp.RP_CH_2\n",
    "waveform = rp.RP_WAVEFORM_ARBITRARY\n",
    "freq = 10000\n",
    "ampl = 1\n",
    "\n",
    "N = 16384       # Number of samples in the buffer\n",
    "\n",
    "##### Custom waveform setup #####\n",
    "x = rp.arbBuffer(N)                             # Defining buffers\n",
    "y = rp.arbBuffer(N)\n",
    "\n",
    "t = np.linspace(0, 1, N)*2*np.pi                # \"time axis\"\n",
    "\n",
    "x_temp = np.sin(t) + 1/3*np.sin(3*t)            # First custom signal\n",
    "y_temp = 1/2*np.sin(t) + 1/4*np.sin(4*t)        # Second custom signal\n",
    "\n",
    "for i in range(0, N, 1):\n",
    "    x[i] = float(x_temp[i])                     # Copying signals to buffers\n",
    "    y[i] = float(y_temp[i])\n",
    "\n",
    "# Plot both signals\n",
    "plt.plot(t, x_temp, 'r')\n",
    "plt.plot(t, y_temp, 'b')\n",
    "plt.xlabel('N')\n",
    "plt.ylabel('V')\n",
    "plt.title('Signals')\n",
    "plt.show()"
   ]
  },
  {
   "cell_type": "markdown",
   "metadata": {},
   "source": [
    "The first custom signal is a combination of a standard sine signal and the third harmonic frequency component.\n",
    "The second signal is a combination of sine and the forth harmonic component.\n",
    "\n",
    "Notice that during the custom signal definition we did not use the actual frequency, but rather defined the sine waves relatively to each other. The actual output frequency is defined with Red Pitaya SCPI commands."
   ]
  },
  {
   "cell_type": "code",
   "execution_count": null,
   "metadata": {},
   "outputs": [],
   "source": [
    "# Reset generator\n",
    "rp.rp_GenReset()\n",
    "\n",
    "###### Generation #####\n",
    "rp.rp_GenWaveform(channel, waveform)\n",
    "rp.rp_GenArbWaveform(channel, x.cast(), N)      # Defining the custom signal (writing to the FPGA buffer)\n",
    "rp.rp_GenFreqDirect(channel, freq)\n",
    "rp.rp_GenAmp(channel, ampl)\n",
    "\n",
    "rp.rp_GenWaveform(channel2, waveform)\n",
    "rp.rp_GenArbWaveform(channel2, y.cast(), N)     # Defining the custom signal (writing to the FPGA buffer)\n",
    "rp.rp_GenFreqDirect(channel2, freq)\n",
    "rp.rp_GenAmp(channel2, ampl)\n",
    "\n",
    "# Enable output synchronisation\n",
    "rp.rp_GenOutEnableSync(True)\n",
    "\n",
    "# Sync trigger output channels\n",
    "rp.rp_GenSynchronise()"
   ]
  },
  {
   "cell_type": "code",
   "execution_count": null,
   "metadata": {},
   "outputs": [],
   "source": [
    "# Release resources\n",
    "rp.rp_Release()"
   ]
  },
  {
   "cell_type": "markdown",
   "metadata": {},
   "source": [
    "### Multiple periods inside the AWG buffer\n",
    "If there are multiple periods inside the arbitrary waveform generator buffer, use the following equation to convert the frequency set with *rp_GenFreqDirect()* to the Red Pitaya output frequency.\n",
    "\n",
    "> $f_{IN} = \\frac{f_{OUT, TARGET} \\cdot N_{PERIOD}}{N_{BUFF}}$\n",
    "\n",
    "Where:\n",
    "- $f_{IN}$ - frequency set with *rp_GenFreqDirect()*\n",
    "- $f_{OUT, TARGET}$ - target output frequency generated by Red Pitaya\n",
    "- $N_{PERIOD}$ - number of samples in one signal period inside the buffer/array\n",
    "- $N_{BUFF}$ - length of the whole AWG array/buffer (the expected length is 16384)\n"
   ]
  },
  {
   "cell_type": "markdown",
   "metadata": {},
   "source": [
    "### Note\n",
    "There are a lot of different commands for the Generation. The list of available functions is quite an achievement to read through, so from now on, please refer to the *C and Python API section* of the [SCPI & API command list](https://redpitaya.readthedocs.io/en/latest/appsFeatures/remoteControl/command_list.html#list-of-supported-scpi-api-commands) for all available commands.\n"
   ]
  }
 ],
 "metadata": {
  "kernelspec": {
   "display_name": "Python 3",
   "language": "python",
   "name": "python3"
  },
  "language_info": {
   "codemirror_mode": {
    "name": "ipython",
    "version": 3
   },
   "file_extension": ".py",
   "mimetype": "text/x-python",
   "name": "python",
   "nbconvert_exporter": "python",
   "pygments_lexer": "ipython3",
   "version": "3.5.2"
  }
 },
 "nbformat": 4,
 "nbformat_minor": 2
}
