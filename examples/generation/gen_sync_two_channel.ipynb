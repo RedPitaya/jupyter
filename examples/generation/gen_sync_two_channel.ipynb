{
 "cells": [
  {
   "cell_type": "markdown",
   "metadata": {},
   "source": [
    "# Generate two synchronous signals\n",
    "Here we will learn how to generate two synchronous signals on both fast analog outputs."
   ]
  },
  {
   "cell_type": "markdown",
   "metadata": {},
   "source": [
    "## Libraries and FPGA image"
   ]
  },
  {
   "cell_type": "code",
   "execution_count": null,
   "metadata": {
    "scrolled": true
   },
   "outputs": [],
   "source": [
    "from rp_overlay import overlay\n",
    "import rp\n",
    "\n",
    "fpga = overlay()\n",
    "rp.rp_Init()"
   ]
  },
  {
   "cell_type": "markdown",
   "metadata": {},
   "source": [
    "## Macros\n",
    "Throughout this tutorial we will mention macros multiple times. Here is a complete list of macros that will come in handy when customising this notebook. The marcos are a part of the **rp** library.\n",
    "\n",
    "- **Waveforms** - RP_WAVEFORM_SINE, RP_WAVEFORM_SQUARE, RP_WAVEFORM_TRIANGLE, RP_WAVEFORM_RAMP_UP, RP_WAVEFORM_RAMP_DOWN, RP_WAVEFORM_DC, RP_WAVEFORM_PWM, RP_WAVEFORM_ARBITRARY, RP_WAVEFORM_DC_NEG, RP_WAVEFORM_SWEEP\n",
    "- **Generator modes** - RP_GEN_MODE_CONTINUOUS, RP_GEN_MODE_BURST\n",
    "- **Sweep direction** - RP_GEN_SWEEP_DIR_NORMAL, RP_GEN_SWEEP_DIR_UP_DOWN\n",
    "- **Sweep mode** - RP_GEN_SWEEP_MODE_LINEAR, RP_GEN_SWEEP_MODE_LOG\n",
    "- **Generator trigger source** - RP_GEN_TRIG_SRC_INTERNAL, RP_GEN_TRIG_SRC_EXT_PE, RP_GEN_TRIG_SRC_EXT_NE\n",
    "- **Fast analog channels** - RP_CH_1, RP_CH_2\n",
    "- **Fast analog triggers** - RP_T_CH_1, RP_T_CH_2, RP_T_CH_EXT\n",
    "- **Rise and fall times** - RISE_FALL_MIN_RATIO, RISE_FALL_MAX_RATIO\n",
    "\n",
    "SIGNALlab 250-12 only:\n",
    "- **Generator gain** - RP_GAIN_1X, RP_GAIN_5X\n",
    "\n",
    "STEMlab 125-14 4-Input only:\n",
    "- **Fast analog channels** - RP_CH_3, RP_CH_4\n",
    "- **Fast analog triggers** - RP_T_CH_3, RP_T_CH_4"
   ]
  },
  {
   "cell_type": "markdown",
   "metadata": {},
   "source": [
    "## Synchronising both outputs\n",
    "\n",
    "Here is a quick reference guide to the functions used:\n",
    "- **rp_GenOutEnable(output_channel)** - supplies voltage on the specified output (voltage set with **rp_GenSetInitGenValue** appears on the output), but does not generate a signal\n",
    "- **rp_GenOutEnableSync()** - supplies voltage on both outputs (voltage set with **rp_GenSetInitGenValue** appears on the outputs), but does not generate a signal.\n",
    "- **rp_GenTriggerOnly(output_channel)** - triggers signal generation on the specified output\n",
    "- **rp_GenSynchronise()** - triggers both signal generators at the same time (sychronised)"
   ]
  },
  {
   "cell_type": "code",
   "execution_count": null,
   "metadata": {
    "scrolled": true
   },
   "outputs": [],
   "source": [
    "channel = rp.RP_CH_1\n",
    "channel2 = rp.RP_CH_2\n",
    "waveform = rp.RP_WAVEFORM_SINE\n",
    "freq = 10000\n",
    "ampl = 1\n",
    "\n",
    "gen_trig_sour = rp.RP_GEN_TRIG_SRC_INTERNAL\n",
    "\n",
    "\n",
    "# Reset generator\n",
    "rp.rp_GenReset()\n",
    "\n",
    "###### Generation #####\n",
    "# OUT1\n",
    "rp.rp_GenWaveform(channel, waveform)\n",
    "rp.rp_GenFreqDirect(channel, freq)\n",
    "rp.rp_GenAmp(channel, ampl)\n",
    "\n",
    "# OUT2\n",
    "rp.rp_GenWaveform(channel2, waveform)\n",
    "rp.rp_GenFreqDirect(channel2, freq)\n",
    "rp.rp_GenAmp(channel2, ampl)\n",
    "\n",
    "# Specify generator trigger source\n",
    "rp.rp_GenTriggerSource(channel, gen_trig_sour)\n",
    "\n",
    "# Enable outputs on both channels synchronuously\n",
    "rp.rp_GenOutEnableSync(True)\n",
    "\n",
    "# Syncronise and trigger output channels\n",
    "rp.rp_GenSynchronise()\n"
   ]
  },
  {
   "cell_type": "code",
   "execution_count": null,
   "metadata": {},
   "outputs": [],
   "source": [
    "# Release resources\n",
    "rp.rp_Release()"
   ]
  },
  {
   "cell_type": "markdown",
   "metadata": {},
   "source": [
    "### Note\n",
    "There are a lot of different commands for the Generation. The list of available functions is quite an achievement to read through, so from now on, please refer to the *C and Python API section* of the [SCPI & API command list](https://redpitaya.readthedocs.io/en/latest/appsFeatures/remoteControl/command_list.html#list-of-supported-scpi-api-commands) for all available commands.\n"
   ]
  }
 ],
 "metadata": {
  "kernelspec": {
   "display_name": "Python 3",
   "language": "python",
   "name": "python3"
  },
  "language_info": {
   "codemirror_mode": {
    "name": "ipython",
    "version": 3
   },
   "file_extension": ".py",
   "mimetype": "text/x-python",
   "name": "python",
   "nbconvert_exporter": "python",
   "pygments_lexer": "ipython3",
   "version": "3.5.2"
  }
 },
 "nbformat": 4,
 "nbformat_minor": 2
}
