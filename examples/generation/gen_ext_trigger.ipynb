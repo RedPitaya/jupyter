{
 "cells": [
  {
   "cell_type": "markdown",
   "metadata": {},
   "source": [
    "# Generate a signal on external trigger\n",
    "This example showcases how to generate a burst signal on an exteral trigger. After the setup, Red Pitaya will wait for a trigger from an external source on DIO0_P (EXT_TRIG pin) and then generate the signal. The same concept also works for continuous signals."
   ]
  },
  {
   "cell_type": "markdown",
   "metadata": {},
   "source": [
    "## Libraries and FPGA image"
   ]
  },
  {
   "cell_type": "code",
   "execution_count": null,
   "metadata": {},
   "outputs": [],
   "source": [
    "import time\n",
    "from rp_overlay import overlay\n",
    "import rp\n",
    "\n",
    "fpga = overlay()\n",
    "rp.rp_Init()"
   ]
  },
  {
   "cell_type": "markdown",
   "metadata": {},
   "source": [
    "## Macros\n",
    "Throughout this tutorial we will mention macros multiple times. Here is a complete list of macros that will come in handy when customising this notebook. The marcos are a part of the **rp** library.\n",
    "\n",
    "- **Waveforms** - RP_WAVEFORM_SINE, RP_WAVEFORM_SQUARE, RP_WAVEFORM_TRIANGLE, RP_WAVEFORM_RAMP_UP, RP_WAVEFORM_RAMP_DOWN, RP_WAVEFORM_DC, RP_WAVEFORM_PWM, RP_WAVEFORM_ARBITRARY, RP_WAVEFORM_DC_NEG, RP_WAVEFORM_SWEEP\n",
    "- **Generator modes** - RP_GEN_MODE_CONTINUOUS, RP_GEN_MODE_BURST\n",
    "- **Sweep direction** - RP_GEN_SWEEP_DIR_NORMAL, RP_GEN_SWEEP_DIR_UP_DOWN\n",
    "- **Sweep mode** - RP_GEN_SWEEP_MODE_LINEAR, RP_GEN_SWEEP_MODE_LOG\n",
    "- **Generator trigger source** - RP_GEN_TRIG_SRC_INTERNAL, RP_GEN_TRIG_SRC_EXT_PE, RP_GEN_TRIG_SRC_EXT_NE\n",
    "- **Fast analog channels** - RP_CH_1, RP_CH_2\n",
    "- **Fast analog triggers** - RP_T_CH_1, RP_T_CH_2, RP_T_CH_EXT\n",
    "- **Rise and fall times** - RISE_FALL_MIN_RATIO, RISE_FALL_MAX_RATIO\n",
    "\n",
    "SIGNALlab 250-12 only:\n",
    "- **Generator gain** - RP_GAIN_1X, RP_GAIN_5X\n",
    "\n",
    "STEMlab 125-14 4-Input only:\n",
    "- **Fast analog channels** - RP_CH_3, RP_CH_4\n",
    "- **Fast analog triggers** - RP_T_CH_3, RP_T_CH_4"
   ]
  },
  {
   "cell_type": "markdown",
   "metadata": {},
   "source": [
    "## External trigger\n",
    "As we will see in a moment, the code is almost identical to the previous examples, except that we specify the trigger source as external.\n",
    "\n",
    "Digital pin DIO0_P also acts as an External trigger pin. Red Pitaya assumes that the provided external signal is a 3V3 CMOS signal (pulse).\n",
    "\n",
    "Additionally, a software debounce filter is present on the external trigger pin. The filter filters out unwanted bouncing on the external trigger transmission line and prevents potentially unwanted signal triggering. By default, the filter is set to 500 microseconds. If the external trigger signal is shorter or close to that value, we must change it.\n",
    "\n",
    "Now that the theory is out of the way, it is time to do some coding."
   ]
  },
  {
   "cell_type": "code",
   "execution_count": null,
   "metadata": {},
   "outputs": [],
   "source": [
    "channel = rp.RP_CH_1        # rp.RP_CH_2\n",
    "waveform = rp.RP_WAVEFORM_SINE\n",
    "freq = 200\n",
    "ampl = 1\n",
    "\n",
    "mode = rp.RP_GEN_MODE_BURST\n",
    "\n",
    "ncyc = 2            # Number of waveform periods in one burst\n",
    "nor = 2             # Number of repeated bursts\n",
    "period = 30000      # Delay between start of first burst and start of second burst\n",
    "                    # in mircoseconds\n",
    "\n",
    "gen_trig_sour = rp.RP_GEN_TRIG_SRC_EXT_PE   # Trigger source\n",
    "debounce_len = 50000                        # debounce filter length in microseconds\n",
    "\n",
    "# Reset generator\n",
    "rp.rp_GenReset()\n",
    "\n",
    "###### Generation #####\n",
    "rp.rp_GenWaveform(channel, waveform)\n",
    "rp.rp_GenFreqDirect(channel, freq)\n",
    "rp.rp_GenAmp(channel, ampl)\n",
    "\n",
    "# Change to burst mode\n",
    "rp.rp_GenMode(channel, mode)\n",
    "rp.rp_GenBurstCount(channel, ncyc)                  # Ncyc\n",
    "rp.rp_GenBurstRepetitions(channel, nor)             # Nor\n",
    "rp.rp_GenBurstPeriod(channel, period)               # Period"
   ]
  },
  {
   "cell_type": "markdown",
   "metadata": {},
   "source": [
    "Everything so far should already be familiar. Here are the two lines that enable the external trigger and configure the debounce filter length."
   ]
  },
  {
   "cell_type": "code",
   "execution_count": null,
   "metadata": {},
   "outputs": [],
   "source": [
    "# Set length of internal debounce filter in us (minimum of 1 us)\n",
    "rp.rp_GenSetExtTriggerDebouncerUs(debounce_len)\n",
    "\n",
    "# Specify generator trigger source\n",
    "rp.rp_GenTriggerSource(channel, gen_trig_sour)"
   ]
  },
  {
   "cell_type": "markdown",
   "metadata": {},
   "source": [
    "The only thing left is enabling the output and wait for the external trigger."
   ]
  },
  {
   "cell_type": "code",
   "execution_count": null,
   "metadata": {},
   "outputs": [],
   "source": [
    "rp.rp_GenOutEnable(channel)"
   ]
  },
  {
   "cell_type": "markdown",
   "metadata": {},
   "source": [
    "### Simulating an external trigger\n",
    "\n",
    "**Recommendation:** To see the generated signal, use an oscilloscope or another Red Pitaya to measure the output signal. Alternatively, copy the code from one of the acquisition examples and connect OUT1 to IN1.\n",
    "\n",
    "In case no external trigger source is available, we can simulate it with one of the Red Pitaya GPIO pins. Connect DIO0_N to DIO0_P (EXT_TRIG) with a jumper wire.\n",
    "\n",
    "All that is left is configuring the DIO0_N pin as an output and changing its state."
   ]
  },
  {
   "cell_type": "code",
   "execution_count": null,
   "metadata": {},
   "outputs": [],
   "source": [
    "rp.rp_DpinReset()\n",
    "rp.rp_DpinSetState(rp.RP_DIO0_N, rp.RP_LOW)\n",
    "rp.rp_DpinSetDirection(rp.RP_DIO0_N, rp.RP_OUT)"
   ]
  },
  {
   "cell_type": "markdown",
   "metadata": {},
   "source": [
    "Now, we can write a simple *for* loop to trigger the signal generation. There are a few things we must be aware of:\n",
    "- The length of the external trigger pulse must be longer than the debounce filter length.\n",
    "- The time between external trigger pulses must be longer than the generated signal.\n",
    "\n",
    "The debounce filter will filter out signal pulses shorter than the specified time. For example, if the debounce filter is set to 500 microseconds and we apply a 10-microsecond pulse to the external trigger pin, it will not be detected.\n",
    "\n",
    "The second problem is retriggering the signal before the generation is complete, which causes Red Pitaya to generate a combination of both signals, which can result in unexpected output signals.\n",
    "\n",
    "Since our signal is relatively short, we don't need to be concerned with too fast retriggering, but we will still put some delay between triggers. Let us generate a simple square signal that will act as our external trigger."
   ]
  },
  {
   "cell_type": "code",
   "execution_count": null,
   "metadata": {},
   "outputs": [],
   "source": [
    "for i in range(0, 1):\n",
    "    rp.rp_DpinSetState(rp.RP_DIO0_N, rp.RP_HIGH)        # External trigger - Positive edge\n",
    "    time.sleep(0.2)\n",
    "    rp.rp_DpinSetState(rp.RP_DIO0_N, rp.RP_LOW)         # External trigger - Negative edge\n",
    "    time.sleep(0.2)"
   ]
  },
  {
   "cell_type": "markdown",
   "metadata": {},
   "source": [
    "### Too short external trigger\n",
    "Here, we simulate a too-short external trigger pulse that will not be detected due to the debounce filter.\n",
    "\n",
    "Our debounce filter is currently set to 50 milliseconds. Let's see what happens if we apply a shorter signal to the External trigger pin (please take into consideration that the functions need some time to execute)."
   ]
  },
  {
   "cell_type": "code",
   "execution_count": null,
   "metadata": {},
   "outputs": [],
   "source": [
    "for i in range(0, 1):\n",
    "    rp.rp_DpinSetState(rp.RP_DIO0_N, rp.RP_HIGH)        # External trigger - Positive edge\n",
    "    time.sleep(0.001)                                   # approx. 1 ms-long pulse\n",
    "    rp.rp_DpinSetState(rp.RP_DIO0_N, rp.RP_LOW)         # External trigger - Negative edge\n",
    "    time.sleep(0.001)"
   ]
  },
  {
   "cell_type": "markdown",
   "metadata": {},
   "source": [
    "### Multiple external trigger pulses\n",
    "Let us apply two consecutive external trigger pulses before the signal stops generating and see what happens. For this to work, we will crete a longer signal and shorten the debounce filter.\n",
    "\n",
    "We will only modify the necessary settings, everything else is still the same as before. "
   ]
  },
  {
   "cell_type": "code",
   "execution_count": null,
   "metadata": {},
   "outputs": [],
   "source": [
    "ncyc = 2\n",
    "nor = 1000\n",
    "period = 20000      # Twice the lenght of one burst\n",
    "\n",
    "debounce_len = 10   # microseconds\n",
    "\n",
    "# Change to burst mode\n",
    "rp.rp_GenBurstCount(channel, ncyc)                  # Ncyc\n",
    "rp.rp_GenBurstRepetitions(channel, nor)             # Nor\n",
    "rp.rp_GenBurstPeriod(channel, period)               # Period\n",
    "\n",
    "rp.rp_GenSetExtTriggerDebouncerUs(debounce_len)     # setting the debounce to 10 us\n",
    "\n",
    "for i in range(0,2):\n",
    "    rp.rp_DpinSetState(rp.RP_DIO0_N, rp.RP_HIGH)     # External trigger - Positive edge\n",
    "    time.sleep(0.001)\n",
    "    rp.rp_DpinSetState(rp.RP_DIO0_N, rp.RP_LOW)      # External trigger - Negative edge\n",
    "    time.sleep(0.005)\n",
    "    # The second trigger is approx. 6 ms after the first one"
   ]
  },
  {
   "cell_type": "markdown",
   "metadata": {},
   "source": [
    "Releasing the resources."
   ]
  },
  {
   "cell_type": "code",
   "execution_count": null,
   "metadata": {},
   "outputs": [],
   "source": [
    "rp.rp_Release()"
   ]
  },
  {
   "cell_type": "markdown",
   "metadata": {},
   "source": [
    "### Note\n",
    "There are a lot of different commands for the Generation. The list of available functions is quite an achievement to read through, so from now on, please refer to the *C and Python API section* of the [SCPI & API command list](https://redpitaya.readthedocs.io/en/latest/appsFeatures/remoteControl/command_list.html#list-of-supported-scpi-api-commands) for all available commands.\n"
   ]
  }
 ],
 "metadata": {
  "language_info": {
   "name": "python"
  }
 },
 "nbformat": 4,
 "nbformat_minor": 2
}
