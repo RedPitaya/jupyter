{
 "cells": [
  {
   "cell_type": "markdown",
   "metadata": {},
   "source": [
    "# Daisy chain generation and acquisition\n",
    "This example shows how to synchronise the Red Pitaya X-channel system (daisy chain) to simultaneously acquire 16k samples of a generated signal on multiple units (fast RF inputs and outputs).\n",
    "\n",
    "## Required hardware\n",
    "\n",
    "- Primary Red Pitaya device (STEMlab 125-14 LN)\n",
    "- One or more Secondary devices (STEMlab 125-14 LN Secondary)\n",
    "- SATA cables\n",
    "- SMA cables and SMA T-connectors\n",
    "\n",
    "Connect OUT1 of the primary device to IN1 channels of all devices in the X-channel system and interconnect all devices with SATA cables.\n",
    "\n",
    ".. add a picture"
   ]
  },
  {
   "cell_type": "markdown",
   "metadata": {},
   "source": [
    "## Marcos\n",
    "Throughout this tutorial we will mention macros multiple times. Here is a complete list of macros that will come in handy when customising this notebook. The marcos are a part of the **rp** library.\n",
    "\n",
    "**GENERATION**\n",
    "- **Waveforms** - RP_WAVEFORM_SINE, RP_WAVEFORM_SQUARE, RP_WAVEFORM_TRIANGLE, RP_WAVEFORM_RAMP_UP, RP_WAVEFORM_RAMP_DOWN, RP_WAVEFORM_DC, RP_WAVEFORM_PWM, RP_WAVEFORM_ARBITRARY, RP_WAVEFORM_DC_NEG, RP_WAVEFORM_SWEEP\n",
    "- **Generator modes** - RP_GEN_MODE_CONTINUOUS, RP_GEN_MODE_BURST\n",
    "- **Sweep direction** - RP_GEN_SWEEP_DIR_NORMAL, RP_GEN_SWEEP_DIR_UP_DOWN\n",
    "- **Sweep mode** - RP_GEN_SWEEP_MODE_LINEAR, RP_GEN_SWEEP_MODE_LOG\n",
    "- **Generator trigger source** - RP_GEN_TRIG_SRC_INTERNAL, RP_GEN_TRIG_SRC_EXT_PE, RP_GEN_TRIG_SRC_EXT_NE\n",
    "- **Generator triggers** - RP_T_CH_1, RP_T_CH_2, RP_T_CH_EXT\n",
    "- **Rise and fall times** - RISE_FALL_MIN_RATIO, RISE_FALL_MAX_RATIO\n",
    "\n",
    "**ACQUISITION**\n",
    "- **Decimation** - RP_DEC_1, RP_DEC_2, RP_DEC_4, RP_DEC_8, RP_DEC_16, RP_DEC_32, RP_DEC_64, RP_DEC_128, RP_DEC_256, RP_DEC_512, RP_DEC_1024, RP_DEC_2048, RP_DEC_4096, RP_DEC_8192, RP_DEC_16384, RP_DEC_32768, RP_DEC_65536 \n",
    "- **Acquisition trigger** - RP_TRIG_SRC_DISABLED, RP_TRIG_SRC_NOW, RP_TRIG_SRC_CHA_PE, RP_TRIG_SRC_CHA_NE, RP_TRIG_SRC_CHB_PE, RP_TRIG_SRC_CHB_NE, RP_TRIG_SRC_EXT_PE, RP_TRIG_SRC_EXT_NE, RP_TRIG_SRC_AWG_PE, RP_TRIG_SRC_AWG_NE\n",
    "- **Acquisition trigger state** - RP_TRIG_STATE_TRIGGERED, RP_TRIG_STATE_WAITING\n",
    "- **Buffer size** - ADC_BUFFER_SIZE, DAC_BUFFER_SIZE\n",
    "- **Fast analog gen_channels** - RP_CH_1, RP_CH_2\n",
    "\n",
    "**MULTICHANNEL**\n",
    "- **Shared trigger source** - OUT_TR_ADC, OUT_TR_DAC\n",
    "\n",
    "SIGNALlab 250-12 only:\n",
    "- **Input coupling** - RP_DC, RP_AC\n",
    "- **Generator gain** - RP_GAIN_1X, RP_GAIN_5X\n",
    "\n",
    "STEMlab 125-14 4-Input only:\n",
    "- **Fast analog channels** - RP_CH_3, RP_CH_4\n",
    "- **Acquisition trigger** - RP_TRIG_SRC_CHC_PE, RP_TRIG_SRC_CHC_NE, RP_TRIG_SRC_CHD_PE, RP_TRIG_SRC_CHD_NE"
   ]
  },
  {
   "cell_type": "markdown",
   "metadata": {},
   "source": [
    "## X-channel system\n",
    "Red Pitaya X-channel system consists of one primary device that shares its *CLK* and *TRIG* signals to all other secondary devices. For more information on X-channel system, please reffer to the [X-channel documentation](https://redpitaya.readthedocs.io/en/latest/developerGuide/hardware/125-14_MULTI/top.html#stemlab-125-14-x-channel-system).\n",
    "\n",
    "The example itself is similar to what we have done in the Generation and Acquisition examples, but it has to be run on multiple boards at the same time.\n",
    "\n",
    "Here is a short briefing on the new functions used:\n",
    "- **rp_SetEnableDaisyChainTrigSync(bool_state)** - Set trigger synchronisation.\n",
    "- **rp_GetEnableDaisyChainTrigSync()** - Get trigger synchronisation\n",
    "- **rp_SetEnableDiasyChainClockSync(bool_state)** - Set clock synchronisation.\n",
    "- **rp_GetEnableDiasyChainClockSync()** - Get clock synchronisation\n",
    "- **rp_SetSourceTrigOutput(shared_trigger_source)** - Choose whether ADC or DAC trigger is synchronised between units.\n",
    "- **rp_GetSourceTrigOutput()** - Check whether ADC or DAC trigger is synchronised between units.\n",
    "\n",
    "With these functions we are able to synchronise the *clock* and *trigger* signals between all boards.\n",
    "\n",
    "### Note\n",
    "The codes for primary and secondary units differ slightly.\n"
   ]
  },
  {
   "cell_type": "markdown",
   "metadata": {},
   "source": [
    "### Primary unit code\n",
    "The primary unit is responsible for sharing its CLK and TRIG signals to all other units through the SATA extension connectors.\n",
    "\n",
    "Parameters:"
   ]
  },
  {
   "cell_type": "code",
   "execution_count": null,
   "metadata": {},
   "outputs": [],
   "source": [
    "import time\n",
    "import numpy as np\n",
    "from matplotlib import pyplot as plt\n",
    "from rp_overlay import overlay\n",
    "import rp\n",
    "\n",
    "fpga = overlay()\n",
    "\n",
    "########! Primary unit code !#########\n",
    "gen_channel = rp.RP_CH_1        # rp.RP_CH_2\n",
    "waveform = rp.RP_WAVEFORM_SINE\n",
    "freq = 100000\n",
    "ampl = 1.0\n",
    "\n",
    "gen_trig_sour = rp.RP_GEN_TRIG_SRC_INTERNAL\n",
    "\n",
    "trig_lvl = 0.5\n",
    "trig_dly = 0\n",
    "\n",
    "acq_channel = rp.RP_CH_1\n",
    "acq_trigger_channel = rp.RP_T_CH_1\n",
    "dec = rp.RP_DEC_1\n",
    "\n",
    "acq_trig_sour = rp.RP_TRIG_SRC_CHA_PE\n",
    "\n",
    "N = 16384\n",
    "\n",
    "# Initialize the interface\n",
    "rp.rp_Init()\n",
    "\n",
    "# Reset Generation and Acquisition\n",
    "rp.rp_GenReset()\n",
    "rp.rp_AcqReset()"
   ]
  },
  {
   "cell_type": "markdown",
   "metadata": {},
   "source": [
    "Enabling Daisy chain:"
   ]
  },
  {
   "cell_type": "code",
   "execution_count": null,
   "metadata": {},
   "outputs": [],
   "source": [
    "rp.rp_SetEnableDiasyChainClockSync(True)        # Sync Clock\n",
    "rp.rp_SetEnableDaisyChainTrigSync(True)         # Sync Trigger\n",
    "\n",
    "# Choose which trigger to synchronise (rp.OUT_TR_ADC, rp.OUT_TR_DAC)\n",
    "rp.rp_SetSourceTrigOutput(rp.OUT_TR_ADC)\n",
    "\n",
    "# LED indicator\n",
    "rp.rp_DpinSetState(rp.RP_LED5, rp.RP_HIGH)"
   ]
  },
  {
   "cell_type": "markdown",
   "metadata": {},
   "source": [
    "Generation code on OUT1 of primary unit:"
   ]
  },
  {
   "cell_type": "code",
   "execution_count": null,
   "metadata": {},
   "outputs": [],
   "source": [
    "print(\"Gen_start\")\n",
    "rp.rp_GenWaveform(gen_channel, waveform)\n",
    "rp.rp_GenFreqDirect(gen_channel, freq)\n",
    "rp.rp_GenAmp(gen_channel, ampl)\n",
    "\n",
    "rp.rp_GenTriggerSource(gen_channel, gen_trig_sour)\n",
    "rp.rp_GenOutEnable(gen_channel)"
   ]
  },
  {
   "cell_type": "markdown",
   "metadata": {},
   "source": [
    "Acquisition code is the same as on a normal unit:"
   ]
  },
  {
   "cell_type": "code",
   "execution_count": null,
   "metadata": {},
   "outputs": [],
   "source": [
    "rp.rp_AcqSetDecimation(dec)\n",
    "\n",
    "# Set trigger level and delay\n",
    "rp.rp_AcqSetTriggerLevel(acq_trigger_channel, trig_lvl)\n",
    "rp.rp_AcqSetTriggerDelay(trig_dly)\n",
    "\n",
    "# Start Acquisition\n",
    "print(\"Acq_start\")\n",
    "rp.rp_AcqStart()\n",
    "\n",
    "# Specify trigger - input 1 positive edge\n",
    "rp.rp_AcqSetTriggerSrc(acq_trig_sour)\n",
    "\n",
    "time.sleep(1)\n",
    "\n",
    "rp.rp_GenTriggerOnly(gen_channel)       # Trigger generator\n",
    "\n",
    "# Trigger state\n",
    "while 1:\n",
    "    trig_state = rp.rp_AcqGetTriggerState()[1]\n",
    "    if trig_state == rp.RP_TRIG_STATE_TRIGGERED:\n",
    "        break\n",
    "\n",
    "# Fill state\n",
    "while 1:\n",
    "    if rp.rp_AcqGetBufferFillState()[1]:\n",
    "        break\n",
    "\n",
    "### Get data ###\n",
    "# Volts\n",
    "fbuff = rp.fBuffer(N)\n",
    "res = rp.rp_AcqGetOldestDataV(acq_channel, N, fbuff)[1]\n",
    "\n",
    "data_V = np.zeros(N, dtype = float)\n",
    "\n",
    "for i in range(0, N, 1):\n",
    "    data_V[i] = fbuff[i]\n",
    "\n",
    "plt.plot(data_V)\n",
    "plt.show()"
   ]
  },
  {
   "cell_type": "code",
   "execution_count": null,
   "metadata": {},
   "outputs": [],
   "source": [
    "# Release resources\n",
    "rp.rp_Release()"
   ]
  },
  {
   "cell_type": "markdown",
   "metadata": {},
   "source": [
    "### Secondary unit code\n",
    "The major difference between primary and secondary unit codes is that we do not need the generator but must specify the acquisition trigger as **EXT_NE**.\n",
    "\n",
    "The clock and trigger signals pass through every secondary unit's FPGA."
   ]
  },
  {
   "cell_type": "code",
   "execution_count": null,
   "metadata": {},
   "outputs": [],
   "source": [
    "import time\n",
    "import numpy as np\n",
    "from matplotlib import pyplot as plt\n",
    "from rp_overlay import overlay\n",
    "import rp\n",
    "\n",
    "fpga = overlay()\n",
    "\n",
    "########! Secondary unit code !#########\n",
    "\n",
    "acq_channel = rp.RP_CH_1        # rp.RP_CH_2\n",
    "trig_lvl = 0.5\n",
    "trig_dly = 0\n",
    "\n",
    "dec = rp.RP_DEC_1\n",
    "\n",
    "rp.rp_Init()\n",
    "\n",
    "# Reset Acquisition\n",
    "rp.rp_AcqReset()\n",
    "\n",
    "###### Enable Daisy Chain #####\n",
    "rp.rp_SetEnableDiasyChainClockSync(True)        # Sync Clock\n",
    "rp.rp_SetEnableDaisyChainTrigSync(True)         # Sync Trigger\n",
    "\n",
    "# Choose which trigger to synchronise (rp.OUT_TR_ADC, rp.OUT_TR_DAC)\n",
    "rp.rp_SetSourceTrigOutput(rp.OUT_TR_ADC)\n",
    "\n",
    "# LED indicator\n",
    "rp.rp_DpinSetState(rp.RP_LED5, rp.RP_HIGH)\n",
    "\n",
    "\n",
    "##### Acquisition #####\n",
    "rp.rp_AcqSetDecimation(dec)\n",
    "rp.rp_AcqSetTriggerDelay(trig_dly)\n",
    "\n",
    "# Start Acquisition\n",
    "print(\"Acq_start\")\n",
    "rp.rp_AcqStart()\n",
    "\n",
    "#!!! Specify trigger - must be EXT_NE !!!#\n",
    "rp.rp_AcqSetTriggerSrc(rp.RP_TRIG_SRC_EXT_NE)\n",
    "\n",
    "# Trigger state\n",
    "while 1:\n",
    "    trig_state = rp.rp_AcqGetTriggerState()[1]\n",
    "    if trig_state == rp.RP_TRIG_STATE_TRIGGERED:\n",
    "        break\n",
    "\n",
    "# Fill state\n",
    "while 1:\n",
    "    if rp.rp_AcqGetBufferFillState()[1]:\n",
    "        break\n",
    "\n",
    "### Get data ###\n",
    "# Volts\n",
    "fbuff = rp.fBuffer(N)\n",
    "res = rp.rp_AcqGetOldestDataV(rp.RP_CH_1, N, fbuff)[1]\n",
    "data_V = np.zeros(N, dtype = float)\n",
    "\n",
    "for i in range(0, N, 1):\n",
    "    data_V[i] = fbuff[i]\n",
    "\n",
    "plt.plot(data_V)\n",
    "plt.show()"
   ]
  },
  {
   "cell_type": "code",
   "execution_count": null,
   "metadata": {},
   "outputs": [],
   "source": [
    "# Release resources\n",
    "rp.rp_Release()"
   ]
  },
  {
   "cell_type": "markdown",
   "metadata": {},
   "source": [
    "### Note\n",
    "There are a lot of different commands for the acquisition and generation. The list of available functions is quite an achievement to read through, so from now on, please refer to the *C and Python API section* of the [SCPI & API command list](https://redpitaya.readthedocs.io/en/latest/appsFeatures/remoteControl/command_list.html#list-of-supported-scpi-api-commands) for all available commands.\n"
   ]
  }
 ],
 "metadata": {
  "language_info": {
   "name": "python"
  }
 },
 "nbformat": 4,
 "nbformat_minor": 2
}
