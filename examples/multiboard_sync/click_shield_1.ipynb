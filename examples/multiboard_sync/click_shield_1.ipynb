{
 "cells": [
  {
   "cell_type": "markdown",
   "metadata": {},
   "source": [
    "# Synchronised Click Shield Generation and Acquisition\n",
    "This example shows how to synchronise multiple Red Pitaya boards to simultaneously acquire 16k samples of a generated signal on multiple Red Pitaya units (fast RF inputs and outputs) using the Red Pitaya Click Shields. Red Pitaya can transmit the trigger signal through the DIO0_N and receive it on DIO0_P.\n",
    "\n",
    "This example can be easily modified for simultaneous generation (setup the signal generation, choose a primary trigger, all secondary triggers set to EXT_NE, and finally, change the daisy trigger source to DAC).\n",
    "\n",
    "## Required hardware\n",
    "- Two or more Red Pitaya External clock devices (STEMlab 125-14 External clock, STEMlab 125-14 4-Input)\n",
    "- Red Pitaya Click Shield for each unit\n",
    "- UFL Cables\n",
    "- SMA cables\n",
    "- SMA T-connectors\n"
   ]
  },
  {
   "cell_type": "markdown",
   "metadata": {},
   "source": [
    "## Marcos\n",
    "Throughout this tutorial we will mention macros multiple times. Here is a complete list of macros that will come in handy when customising this notebook. The marcos are a part of the **rp** library.\n",
    "\n",
    "**GENERATION**\n",
    "- **Waveforms** - RP_WAVEFORM_SINE, RP_WAVEFORM_SQUARE, RP_WAVEFORM_TRIANGLE, RP_WAVEFORM_RAMP_UP, RP_WAVEFORM_RAMP_DOWN, RP_WAVEFORM_DC, RP_WAVEFORM_PWM, RP_WAVEFORM_ARBITRARY, RP_WAVEFORM_DC_NEG, RP_WAVEFORM_SWEEP\n",
    "- **Generator modes** - RP_GEN_MODE_CONTINUOUS, RP_GEN_MODE_BURST\n",
    "- **Sweep direction** - RP_GEN_SWEEP_DIR_NORMAL, RP_GEN_SWEEP_DIR_UP_DOWN\n",
    "- **Sweep mode** - RP_GEN_SWEEP_MODE_LINEAR, RP_GEN_SWEEP_MODE_LOG\n",
    "- **Generator trigger source** - RP_GEN_TRIG_SRC_INTERNAL, RP_GEN_TRIG_SRC_EXT_PE, RP_GEN_TRIG_SRC_EXT_NE\n",
    "- **Generator triggers** - RP_T_CH_1, RP_T_CH_2, RP_T_CH_EXT\n",
    "- **Rise and fall times** - RISE_FALL_MIN_RATIO, RISE_FALL_MAX_RATIO\n",
    "\n",
    "**ACQUISITION**\n",
    "- **Decimation** - RP_DEC_1, RP_DEC_2, RP_DEC_4, RP_DEC_8, RP_DEC_16, RP_DEC_32, RP_DEC_64, RP_DEC_128, RP_DEC_256, RP_DEC_512, RP_DEC_1024, RP_DEC_2048, RP_DEC_4096, RP_DEC_8192, RP_DEC_16384, RP_DEC_32768, RP_DEC_65536 \n",
    "- **Acquisition trigger** - RP_TRIG_SRC_DISABLED, RP_TRIG_SRC_NOW, RP_TRIG_SRC_CHA_PE, RP_TRIG_SRC_CHA_NE, RP_TRIG_SRC_CHB_PE, RP_TRIG_SRC_CHB_NE, RP_TRIG_SRC_EXT_PE, RP_TRIG_SRC_EXT_NE, RP_TRIG_SRC_AWG_PE, RP_TRIG_SRC_AWG_NE\n",
    "- **Acquisition trigger state** - RP_TRIG_STATE_TRIGGERED, RP_TRIG_STATE_WAITING\n",
    "- **Buffer size** - ADC_BUFFER_SIZE, DAC_BUFFER_SIZE\n",
    "- **Fast analog gen_channels** - RP_CH_1, RP_CH_2\n",
    "\n",
    "**MULTICHANNEL**\n",
    "- **Shared trigger source** - OUT_TR_ADC, OUT_TR_DAC\n",
    "\n",
    "SIGNALlab 250-12 only:\n",
    "- **Input coupling** - RP_DC, RP_AC\n",
    "- **Generator gain** - RP_GAIN_1X, RP_GAIN_5X\n",
    "\n",
    "STEMlab 125-14 4-Input only:\n",
    "- **Fast analog channels** - RP_CH_3, RP_CH_4\n",
    "- **Acquisition trigger** - RP_TRIG_SRC_CHC_PE, RP_TRIG_SRC_CHC_NE, RP_TRIG_SRC_CHD_PE, RP_TRIG_SRC_CHD_NE"
   ]
  },
  {
   "cell_type": "markdown",
   "metadata": {},
   "source": [
    "## Click Shields\n",
    "Red Pitaya Click Shields are extension shields for Red Pitaya that enable a better way of synchronising *clock* and *trigger* across multiple boards, as well as attaching two MikroE click boards, and powering Red Pitaya throug either USB-C or 20 V external power source. More information regarding Red Pitaya Click Shields is available [here](https://redpitaya.readthedocs.io/en/latest/developerGuide/hardware/ext_modules/click_shield.html#click-shield).\n",
    "\n",
    "### Note\n",
    "The codes for primary and secondary units differ slightly."
   ]
  },
  {
   "cell_type": "markdown",
   "metadata": {},
   "source": [
    "### Primary unit code\n",
    "The primary unit shares its TRIG signal with all other units through the Click Shield. DIO0_N is used for transmitting the trigger signal, while DIO0_P is used to receive it (EXT_TRIG). The clock signal originates from the oscillator on the primary unit's Click Shield. \n",
    "\n",
    "Parameters:"
   ]
  },
  {
   "cell_type": "code",
   "execution_count": null,
   "metadata": {},
   "outputs": [],
   "source": [
    "import time\n",
    "import numpy as np\n",
    "from matplotlib import pyplot as plt\n",
    "from rp_overlay import overlay\n",
    "import rp\n",
    "\n",
    "fpga = overlay()\n",
    "\n",
    "########! Primary unit code !#########\n",
    "channel = rp.RP_CH_1        # rp.RP_CH_2\n",
    "waveform = rp.RP_WAVEFORM_SINE\n",
    "freq = 100000\n",
    "ampl = 1.0\n",
    "\n",
    "trig_lvl = 0.5\n",
    "trig_dly = 0\n",
    "\n",
    "dec = rp.RP_DEC_1\n",
    "\n",
    "gen_trig_sour = rp.RP_GEN_TRIG_SRC_INTERNAL\n",
    "\n",
    "acq_trig_sour = rp.RP_TRIG_SRC_CHA_PE\n",
    "\n",
    "N = 16384\n",
    "\n",
    "# Initialize the interface\n",
    "rp.rp_Init()\n",
    "\n",
    "# Reset Generation and Acquisition\n",
    "rp.rp_GenReset()\n",
    "rp.rp_AcqReset()"
   ]
  },
  {
   "cell_type": "markdown",
   "metadata": {},
   "source": [
    "Setting up trigger synchronisation:"
   ]
  },
  {
   "cell_type": "code",
   "execution_count": null,
   "metadata": {},
   "outputs": [],
   "source": [
    "# Enable trigger output on DIO0_N\n",
    "rp.rp_SetDpinEnableTrigOutput(True)\n",
    "\n",
    "# Choose which trigger to synchronise (rp.OUT_TR_ADC, rp.OUT_TR_DAC)\n",
    "rp.rp_SetSourceTrigOutput(rp.OUT_TR_ADC)\n",
    "\n",
    "# LED indicator\n",
    "rp.rp_DpinSetState(rp.RP_LED5, rp.RP_HIGH)"
   ]
  },
  {
   "cell_type": "markdown",
   "metadata": {},
   "source": [
    "Generator code:"
   ]
  },
  {
   "cell_type": "code",
   "execution_count": null,
   "metadata": {},
   "outputs": [],
   "source": [
    "###### Generation #####\n",
    "print(\"Gen_start\")\n",
    "rp.rp_GenWaveform(channel, waveform)\n",
    "rp.rp_GenFreqDirect(channel, freq)\n",
    "rp.rp_GenAmp(channel, ampl)\n",
    "\n",
    "rp.rp_GenTriggerSource(channel, gen_trig_sour)\n",
    "rp.rp_GenOutEnable(channel)"
   ]
  },
  {
   "cell_type": "markdown",
   "metadata": {},
   "source": [
    "Acquisition:"
   ]
  },
  {
   "cell_type": "code",
   "execution_count": null,
   "metadata": {},
   "outputs": [],
   "source": [
    "##### Acquisition #####\n",
    "rp.rp_AcqSetDecimation(dec)\n",
    "\n",
    "# Set trigger level and delay\n",
    "rp.rp_AcqSetTriggerLevel(rp.RP_T_CH_1, trig_lvl)\n",
    "rp.rp_AcqSetTriggerDelay(trig_dly)\n",
    "\n",
    "# Start Acquisition\n",
    "print(\"Acq_start\")\n",
    "rp.rp_AcqStart()\n",
    "\n",
    "# Specify trigger - input 1 positive edge\n",
    "rp.rp_AcqSetTriggerSrc(acq_trig_sour)\n",
    "\n",
    "rp.rp_GenTriggerOnly(channel)       # Trigger generator\n",
    "\n",
    "# Trigger state\n",
    "while 1:\n",
    "    trig_state = rp.rp_AcqGetTriggerState()[1]\n",
    "    if trig_state == rp.RP_TRIG_STATE_TRIGGERED:\n",
    "        break\n",
    "\n",
    "# Fill state\n",
    "print(f\"Fill state: {rp.rp_AcqGetBufferFillState()[1]}\")\n",
    "\n",
    "while 1:\n",
    "    if rp.rp_AcqGetBufferFillState()[1]:\n",
    "        break\n",
    "\n",
    "### Get data ###\n",
    "# Volts\n",
    "fbuff = rp.fBuffer(N)\n",
    "res = rp.rp_AcqGetOldestDataV(rp.RP_CH_1, N, fbuff)[1]\n",
    "\n",
    "data_V = np.zeros(N, dtype = float)\n",
    "\n",
    "for i in range(0, N, 1):\n",
    "    data_V[i] = fbuff[i]\n",
    "\n",
    "plt.plot(data_V)\n",
    "plt.show()"
   ]
  },
  {
   "cell_type": "code",
   "execution_count": null,
   "metadata": {},
   "outputs": [],
   "source": [
    "# Release resources\n",
    "rp.rp_Release()"
   ]
  },
  {
   "cell_type": "markdown",
   "metadata": {},
   "source": [
    "### Secondary unit code\n",
    "The major difference between primary and secondary unit codes is that we do not need the generator but must specify the acquisition trigger as **EXT_NE**.\n",
    "\n",
    "The clock and trigger signals pass through the UFL cables on the Click Shields, which have buffers for correcting the signal levels on the outputs. Therefore, almost no delay is present on the clock line (besides transmission delay). The units are connected in an almost star connection."
   ]
  },
  {
   "cell_type": "code",
   "execution_count": null,
   "metadata": {},
   "outputs": [],
   "source": [
    "import time\n",
    "import numpy as np\n",
    "from matplotlib import pyplot as plt\n",
    "from rp_overlay import overlay\n",
    "import rp\n",
    "\n",
    "fpga = overlay()\n",
    "\n",
    "########! Secondary unit code !#########\n",
    "channel = rp.RP_CH_1        # rp.RP_CH_2\n",
    "waveform = rp.RP_WAVEFORM_SINE\n",
    "freq = 100000\n",
    "ampl = 1.0\n",
    "\n",
    "trig_lvl = 0.5\n",
    "trig_dly = 0\n",
    "\n",
    "dec = rp.RP_DEC_1\n",
    "\n",
    "# Initialize the interface\n",
    "rp.rp_Init()\n",
    "\n",
    "# Reset Generation and Acquisition\n",
    "rp.rp_GenReset()\n",
    "rp.rp_AcqReset()\n",
    "\n",
    "###### Enable Trigger output #####\n",
    "rp.rp_SetDpinEnableTrigOutput(True)             # on DIO0_N\n",
    "\n",
    "# Choose which trigger to synchronise (rp.OUT_TR_ADC, rp.OUT_TR_DAC)\n",
    "rp.rp_SetSourceTrigOutput(rp.OUT_TR_ADC)\n",
    "\n",
    "# LED indicator\n",
    "rp.rp_DpinSetState(rp.RP_LED5, rp.RP_HIGH)\n",
    "\n",
    "##### Acquisition #####\n",
    "rp.rp_AcqSetDecimation(dec)\n",
    "rp.rp_AcqSetTriggerDelay(trig_dly)\n",
    "\n",
    "# Start Acquisition\n",
    "print(\"Acq_start\")\n",
    "rp.rp_AcqStart()\n",
    "\n",
    "#!!! Specify trigger - must be EXT_NE !!!#\n",
    "rp.rp_AcqSetTriggerSrc(rp.RP_TRIG_SRC_EXT_NE)\n",
    "\n",
    "# Trigger state\n",
    "while 1:\n",
    "    trig_state = rp.rp_AcqGetTriggerState()[1]\n",
    "    if trig_state == rp.RP_TRIG_STATE_TRIGGERED:\n",
    "        break\n",
    "\n",
    "# Fill state\n",
    "print(f\"Fill state: {rp.rp_AcqGetBufferFillState()[1]}\")\n",
    "\n",
    "while 1:\n",
    "    if rp.rp_AcqGetBufferFillState()[1]:\n",
    "        break\n",
    "\n",
    "### Get data ###\n",
    "\n",
    "# Volts\n",
    "fbuff = rp.fBuffer(N)\n",
    "res = rp.rp_AcqGetOldestDataV(rp.RP_CH_1, N, fbuff)[1]\n",
    "\n",
    "data_V = np.zeros(N, dtype = float)\n",
    "\n",
    "for i in range(0, N, 1):\n",
    "    data_V[i] = fbuff[i]\n",
    "\n",
    "plt.plot(data_V)\n",
    "plt.show()"
   ]
  },
  {
   "cell_type": "code",
   "execution_count": null,
   "metadata": {},
   "outputs": [],
   "source": [
    "# Release resources\n",
    "rp.rp_Release()"
   ]
  },
  {
   "cell_type": "markdown",
   "metadata": {},
   "source": [
    "### Note\n",
    "There are a lot of different commands for the acquisition and generation. The list of available functions is quite an achievement to read through, so from now on, please refer to the *C and Python API section* of the [SCPI & API command list](https://redpitaya.readthedocs.io/en/latest/appsFeatures/remoteControl/command_list.html#list-of-supported-scpi-api-commands) for all available commands.\n"
   ]
  }
 ],
 "metadata": {
  "language_info": {
   "name": "python"
  }
 },
 "nbformat": 4,
 "nbformat_minor": 2
}
